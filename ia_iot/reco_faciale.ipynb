{
  "nbformat": 4,
  "nbformat_minor": 0,
  "metadata": {
    "colab": {
      "name": "reco_faciale.ipynb",
      "provenance": [],
      "include_colab_link": true
    },
    "kernelspec": {
      "name": "python3",
      "display_name": "Python 3"
    }
  },
  "cells": [
    {
      "cell_type": "markdown",
      "metadata": {
        "id": "view-in-github",
        "colab_type": "text"
      },
      "source": [
        "<a href=\"https://colab.research.google.com/github/mrjohanvds/esilv_5a/blob/master/ia_iot/reco_faciale.ipynb\" target=\"_parent\"><img src=\"https://colab.research.google.com/assets/colab-badge.svg\" alt=\"Open In Colab\"/></a>"
      ]
    },
    {
      "cell_type": "markdown",
      "metadata": {
        "id": "C1EiYytXSv8Y",
        "colab_type": "text"
      },
      "source": [
        "# Reconnaissance Faciale\n",
        "\n",
        "- Dataset\n",
        "  - Installer Python3, pip3, numpy, cv2\n",
        "  - Créer script pour prendre en photo nos têtes\n",
        "  - Exporter le dataset (~450 images)\n",
        "- Model\n",
        "  - Tranfert Learning (VGG16)\n",
        "  - Entraîner un model de Triplet Loss\n",
        "\n",
        "Transfer Learning : [**Tuto**](https://www.kaggle.com/carloalbertobarbano/vgg16-transfer-learning-pytorch)\n",
        "\n",
        "Triplet Loss : [**GitHub**](https://github.com/TowardHumanizedInteraction/TripletTorch)"
      ]
    },
    {
      "cell_type": "markdown",
      "metadata": {
        "id": "N_R5E3W8UnAQ",
        "colab_type": "text"
      },
      "source": [
        "## 1/ Script découpage d'image webcam (à partir d'une vidéo)"
      ]
    },
    {
      "cell_type": "markdown",
      "metadata": {
        "id": "sVzNKP3tUicP",
        "colab_type": "text"
      },
      "source": [
        "```python\n",
        "import cv2\n",
        "vidcap = cv2.VideoCapture(\"vid2.mp4\") # Remplace vid2.mp4 by 0 for webcam input\n",
        "success,image = vidcap.read()\n",
        "count = 0\n",
        "while success:\n",
        "  if count:\n",
        "    cv2.imwrite(\"frames/frame%d.png\" % (count), image)     # save frame as png file      \n",
        "    success,image = vidcap.read()\n",
        "  print('Read frame n°: ' + str(count), success)\n",
        "  count += 1\n",
        "```"
      ]
    },
    {
      "cell_type": "markdown",
      "metadata": {
        "id": "Qv7VQaqGU_9i",
        "colab_type": "text"
      },
      "source": [
        "## 2/ Transfer Learning"
      ]
    },
    {
      "cell_type": "code",
      "metadata": {
        "id": "DjzZ8vOpUkcj",
        "colab_type": "code",
        "colab": {}
      },
      "source": [
        ""
      ],
      "execution_count": 0,
      "outputs": []
    },
    {
      "cell_type": "code",
      "metadata": {
        "id": "3-d_QaodUhyr",
        "colab_type": "code",
        "colab": {}
      },
      "source": [
        ""
      ],
      "execution_count": 0,
      "outputs": []
    },
    {
      "cell_type": "code",
      "metadata": {
        "id": "ETVEiVRJURjT",
        "colab_type": "code",
        "colab": {
          "base_uri": "https://localhost:8080/",
          "height": 129
        },
        "outputId": "6ede98ff-173a-4383-f61b-80ed97775749"
      },
      "source": [
        ""
      ],
      "execution_count": 1,
      "outputs": [
        {
          "output_type": "error",
          "ename": "SyntaxError",
          "evalue": "ignored",
          "traceback": [
            "\u001b[0;36m  File \u001b[0;32m\"<ipython-input-1-630cf8973a13>\"\u001b[0;36m, line \u001b[0;32m1\u001b[0m\n\u001b[0;31m    ```python\u001b[0m\n\u001b[0m    ^\u001b[0m\n\u001b[0;31mSyntaxError\u001b[0m\u001b[0;31m:\u001b[0m invalid syntax\n"
          ]
        }
      ]
    },
    {
      "cell_type": "code",
      "metadata": {
        "id": "swLYp6mASpNL",
        "colab_type": "code",
        "colab": {}
      },
      "source": [
        ""
      ],
      "execution_count": 0,
      "outputs": []
    }
  ]
}